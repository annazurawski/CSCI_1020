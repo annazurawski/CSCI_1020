{
  "nbformat": 4,
  "nbformat_minor": 0,
  "metadata": {
    "colab": {
      "provenance": []
    },
    "kernelspec": {
      "name": "python3",
      "display_name": "Python 3"
    },
    "language_info": {
      "name": "python"
    }
  },
  "cells": [
    {
      "cell_type": "code",
      "source": [
        "def alignment_table(sequence1, sequence2, match=1, mismatch=-1, gap=-1):\n",
        "    ## print sequence 1\n",
        "    print(\"Sequence 1: \", sequence1, ' with length ', len(sequence1))\n",
        "\n",
        "    ## print sequence 2\n",
        "    print(\"Sequence 2: \", sequence2, ' with length ', len(sequence2))\n",
        "\n",
        "    ## print the initial alignment table with all values equal to 0\n",
        "\n",
        "    opt = []\n",
        "    for i in range(len(sequence1)+1):\n",
        "      row = []\n",
        "      for j in range(len(sequence2)+1):\n",
        "        row.append(0)\n",
        "      opt.append(row)\n",
        "    ## initialize first column\n",
        "    for rowid in range(0, len(opt)):\n",
        "        opt[rowid][0] = gap* rowid\n",
        "\n",
        "    ## initialize first row\n",
        "    for colid in range(0, len(opt[0])):\n",
        "        opt[0][colid] = gap* colid\n",
        "\n",
        "\n",
        "    for i in range(1,len(opt)):\n",
        "      for j in range(1, len(opt[0])):\n",
        "\n",
        "          #option 1: left to right\n",
        "          score1 = opt[i][j-1] + gap\n",
        "\n",
        "          #option 2: top to bottom\n",
        "          score2 = opt[i-1][j] + gap\n",
        "\n",
        "          #option 3: from diagonal \n",
        "          if sequence1[i-1] == sequence2[j-1]:\n",
        "            score3 = opt[i-1][j-1] + match\n",
        "          else:\n",
        "            score3 = opt[i-1][j-1] + mismatch\n",
        "\n",
        "          best_score = max([score1, score2, score3])\n",
        "\n",
        "          opt[i][j] = best_score\n",
        "\n",
        "    print(\"The initial table with dimension \", len(opt), \" and \", len(opt[0]) ,\" for the sequence alignment is:\")\n",
        "    for i in range(0,len(opt)):\n",
        "      print(\"Row \", i, ':', opt[i] )\n",
        "    \n",
        "    return opt"
      ],
      "metadata": {
        "id": "nzkoiy2Uze2U"
      },
      "execution_count": null,
      "outputs": []
    },
    {
      "cell_type": "code",
      "source": [
        "alignment_table('CACCT','AACT',match=2, mismatch=-1, gap=-1)"
      ],
      "metadata": {
        "colab": {
          "base_uri": "https://localhost:8080/"
        },
        "id": "6pi1vC-XsWOi",
        "outputId": "390fc3aa-64fe-4633-d662-c95d36d2ffe9"
      },
      "execution_count": null,
      "outputs": [
        {
          "output_type": "stream",
          "name": "stdout",
          "text": [
            "Sequence 1:  CACCT  with length  5\n",
            "Sequence 2:  AACT  with length  4\n",
            "The initial table with dimension  6  and  5  for the sequence alignment is:\n",
            "Row  0 : [0, -1, -2, -3, -4]\n",
            "Row  1 : [-1, -1, -2, 0, -1]\n",
            "Row  2 : [-2, 1, 1, 0, -1]\n",
            "Row  3 : [-3, 0, 0, 3, 2]\n",
            "Row  4 : [-4, -1, -1, 2, 2]\n",
            "Row  5 : [-5, -2, -2, 1, 4]\n"
          ]
        },
        {
          "output_type": "execute_result",
          "data": {
            "text/plain": [
              "[[0, -1, -2, -3, -4],\n",
              " [-1, -1, -2, 0, -1],\n",
              " [-2, 1, 1, 0, -1],\n",
              " [-3, 0, 0, 3, 2],\n",
              " [-4, -1, -1, 2, 2],\n",
              " [-5, -2, -2, 1, 4]]"
            ]
          },
          "metadata": {},
          "execution_count": 2
        }
      ]
    },
    {
      "cell_type": "code",
      "source": [
        "def TraceBack(X, Y, table, match=1, mismatch=-1, gap=-1):\n",
        "    first = ''        # alignment for X\n",
        "    second = ''       # alignment for Y\n",
        "    glue = ''         # line showing matches/mismatches\n",
        "    # start reconstruction at bottom-right of table\n",
        "    j = len(X)\n",
        "    k = len(Y)\n",
        "\n",
        "    while j>0 or k>0:\n",
        "        #### \n",
        "        ##   This block checks if the best score at cell j,k is derived from the top-left cell with diagonal direction\n",
        "        ###########################################################################################################\n",
        "        if j>0 and k>0 and ((X[j-1] == Y[k-1] and table[j][k] == table[j-1][k-1] + match) or (X[j-1] != Y[k-1] and table[j][k] == table[j-1][k-1] + mismatch)):\n",
        "            # option1 above; match X[j-1] with Y[k-1]\n",
        "            first =  X[j-1] + first\n",
        "            second = Y[k-1] + second\n",
        "            if X[j-1] == Y[k-1] and table[j][k] == table[j-1][k-1] + match:\n",
        "              glue = '|' + glue   # designate match\n",
        "            elif X[j-1] != Y[k-1] and table[j][k] == table[j-1][k-1] + mismatch:\n",
        "              glue = '.' + glue   # designate mismatch\n",
        "            j = j-1\n",
        "            k = k-1\n",
        "        \n",
        "        #### \n",
        "        ##   This block checks if the best score at cell j,k is derived from the top cell with vertical direction\n",
        "        ###########################################################################################################\n",
        "        elif j > 0 and table[j][k] == table[j-1][k] + gap:\n",
        "            # option1 above; match X[j-1] with a gap in Y\n",
        "            first  = X[j-1] + first\n",
        "            second = '-' + second\n",
        "            glue   = ' ' + glue\n",
        "            j = j-1\n",
        "\n",
        "        ####\n",
        "        ##   This block checks if the best score at cell j,k is derived from the left cell with horizontal direction\n",
        "        ###########################################################################################################\n",
        "        elif k > 0 and table[j][k] == table[j][k-1] + gap:\n",
        "            # option2 above; match gap in X with Y[k-1]\n",
        "            first  = '-'  + first\n",
        "            second = Y[k-1] + second\n",
        "            glue   = ' '  + glue\n",
        "            k = k-1\n",
        "\n",
        "    print(\"The best alignment is:\")\n",
        "    print(first)\n",
        "    print(glue)\n",
        "    print(second)\n",
        "    print(\"The score of optimal alignment is: \",table[len(X)][len(Y)])\n",
        "    return first,glue,second\n",
        "\n",
        "\n",
        "# test the both functions\n",
        "table = alignment_table('TTGCT','CTTCCT',match=1, mismatch=-1, gap=-1)\n",
        "TraceBack('TTGCT','CTTCCT', table, match=1, mismatch=-1, gap=-1)"
      ],
      "metadata": {
        "colab": {
          "base_uri": "https://localhost:8080/"
        },
        "id": "2Y9ZUTg-gESk",
        "outputId": "98d2d88e-96b8-48b7-d7bb-fce972d6412a"
      },
      "execution_count": null,
      "outputs": [
        {
          "output_type": "stream",
          "name": "stdout",
          "text": [
            "Sequence 1:  TTGCT  with length  5\n",
            "Sequence 2:  CTTCCT  with length  6\n",
            "The initial table with dimension  6  and  7  for the sequence alignment is:\n",
            "Row  0 : [0, -1, -2, -3, -4, -5, -6]\n",
            "Row  1 : [-1, -1, 0, -1, -2, -3, -4]\n",
            "Row  2 : [-2, -2, 0, 1, 0, -1, -2]\n",
            "Row  3 : [-3, -3, -1, 0, 0, -1, -2]\n",
            "Row  4 : [-4, -2, -2, -1, 1, 1, 0]\n",
            "Row  5 : [-5, -3, -1, -1, 0, 0, 2]\n",
            "The best alignment is:\n",
            "-TTGCT\n",
            " ||.||\n",
            "CTTCCT\n",
            "The score of optimal alignment is:  2\n"
          ]
        },
        {
          "output_type": "execute_result",
          "data": {
            "text/plain": [
              "('-TTGCT', ' ||.||', 'CTTCCT')"
            ]
          },
          "metadata": {},
          "execution_count": 9
        }
      ]
    },
    {
      "cell_type": "code",
      "source": [],
      "metadata": {
        "id": "Dg6t8ZxagWvp"
      },
      "execution_count": null,
      "outputs": []
    }
  ]
}